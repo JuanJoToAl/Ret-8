{
 "cells": [
  {
   "cell_type": "code",
   "execution_count": null,
   "metadata": {},
   "outputs": [],
   "source": [
    "# Se declara la variable \n",
    "cuadrado : int\n",
    "\n",
    "# Se determina el rango de números y se calcula su cuadrado\n",
    "for i in range(1, 100 + 1, 1):\n",
    "    cuadrado= i ** 2\n",
    "\n",
    "    # Se imprime el número i junto con su cuadrado\n",
    "    print(\"El cuadrado de \" + str(i) + \" es \" + str(cuadrado))"
   ]
  },
  {
   "cell_type": "code",
   "execution_count": null,
   "metadata": {},
   "outputs": [],
   "source": [
    "# Se determina el rango de números y el incremento\n",
    "for i in range(1, 999+1, 1):\n",
    "    \n",
    "    # Si el número i modulo 2 igual a uno, se imprime el número i y el siguiente, \n",
    "    # el cuál debe ser par\n",
    "    if i % 2 == 1:\n",
    "        print(\"{:<10} {:<10}\".format(i, i+1))  "
   ]
  },
  {
   "cell_type": "code",
   "execution_count": null,
   "metadata": {},
   "outputs": [],
   "source": [
    "# Se declara variable\n",
    "numero : int \n",
    "numero = int(input(\"Ingrese un número\"))\n",
    "\n",
    "# Se define que no hay pares naturales menores que 2\n",
    "if numero < 2:\n",
    "        print(\"El número es menor que 2\")\n",
    "\n",
    "# Se determina el rango de números y el decrecimiento    \n",
    "else:\n",
    "    for i in range(numero, 1, -1):\n",
    "    \n",
    "    # Si número módulo 2 es 0, el número es par, \n",
    "    # luego se resta 2 para seguir el otro par menor que número\n",
    "        if i % 2 == 0:\n",
    "            print(i) \n",
    "   \n",
    "     "
   ]
  },
  {
   "cell_type": "code",
   "execution_count": null,
   "metadata": {},
   "outputs": [],
   "source": [
    "# Se declaran variables e inicializa variable factor y producto\n",
    "factor : int = 1\n",
    "producto : int = 1\n",
    "numero = int(input(\"Ingrese un número\"))\n",
    "\n",
    "if numero >= 0:\n",
    "\n",
    "    # Se determina el rango de números y el dincremento  \n",
    "    for i in range(1, numero+1, 1):\n",
    "\n",
    "        # Se calcula e imprime el facotrial con su número\n",
    "        producto *= factor\n",
    "        factor += 1\n",
    "        print(\"El factorial de \" + str(i) + \" es \" +str(producto))\n",
    "\n",
    "# Si se ingresa un número negativo, se imprime mensaje\n",
    "else:\n",
    "    print(\"Los número negativos no tienen factorial\")"
   ]
  },
  {
   "cell_type": "code",
   "execution_count": null,
   "metadata": {},
   "outputs": [],
   "source": [
    "# Se establecen las variables a ingresar por el usuario\n",
    "exponente = int(input(\"Ingrese el valor de la potencia\"))\n",
    "\n",
    "# Se declara e inicializa la variable base\n",
    "base : int = [2]\n",
    "\n",
    "# Se establece el ciclo for para calcular la potencia\n",
    "for i in base:\n",
    "    potencia = i**exponente\n",
    "    print(f\" La potencia de 2 elevado a {exponente} es {potencia}\")\n"
   ]
  },
  {
   "cell_type": "code",
   "execution_count": null,
   "metadata": {},
   "outputs": [],
   "source": [
    "# Se establecen las variables a ingresar por el usuario\n",
    "base = float(input(\"Ingrese el valor de la base\"))\n",
    "exponente = int(input(\"Ingrese el valor del exponente\"))\n",
    "\n",
    "# Se declara e inicializa la variable potencia\n",
    "potencia : int = 1\n",
    "\n",
    "# Se establece el ciclo for para calcular el valor de la potencia \n",
    "for i in range(exponente):\n",
    "    potencia *= base\n",
    "print(f\" La potencia de {base} elevado a {exponente} es {potencia}\")\n"
   ]
  },
  {
   "cell_type": "code",
   "execution_count": null,
   "metadata": {},
   "outputs": [],
   "source": [
    "# Se establece el rango de las tablas de multiplicar a mostrar\n",
    "for i in range(1, 10, 1):\n",
    "    print(f\"Tabla de multiplicar del {i}\")\n",
    "\n",
    "    #Se establece el rango de números que hacen parte de las tablas de multiplicar\n",
    "    for b in range(1, 10, 1):\n",
    "        c = i * b\n",
    "        print(f\"{i} x {b} = {c}\")"
   ]
  },
  {
   "cell_type": "code",
   "execution_count": 6,
   "metadata": {},
   "outputs": [
    {
     "name": "stdout",
     "output_type": "stream",
     "text": [
      "Valor aprox. función en término (1): 2.0\n",
      "Valor real función: 2.718281828459045\n",
      "Diferencia absoluta entre valor real y aprox.: 0.7182818284590451\n",
      "Se obtiene menos del 0.1% error con 5 términos.\n"
     ]
    }
   ],
   "source": [
    "# Importamos módulo math (funciones matemáticas)\n",
    "import math\n",
    "\n",
    "# Se crea variable para almacenar suma de la serie de Taylor\n",
    "sumatoria_aprox: float = 0\n",
    "\n",
    "# Solicitud: valor del exponente\n",
    "exponente = float(input(\"Ingrese el valor del exponente de e: \"))\n",
    "\n",
    "# Solicitud: número del término\n",
    "termino = int(input(\"Ingrese el número del término: \"))\n",
    "\n",
    "# Función exponencial evaluada en el exponente\n",
    "resultado = math.exp(float(exponente))\n",
    "\n",
    "# Bucle: cálculo de la suma de la serie de Taylor\n",
    "for i in range(termino + 1):\n",
    "    sumatoria_aprox += exponente**i / math.factorial(i)\n",
    "\n",
    "# Diferencia entre valor real y aproximación\n",
    "diferencia_x = resultado - sumatoria_aprox\n",
    "\n",
    "# Se calcula el error porcentual relativo\n",
    "error = abs(diferencia_x / resultado) * 100\n",
    "\n",
    "# Impresión: valor aproximado\n",
    "print(f\"Valor aprox. función en término ({termino}): {sumatoria_aprox}\")\n",
    "\n",
    "# Impresión: valor real\n",
    "print(f\"Valor real función: {resultado}\")\n",
    "\n",
    "# Impresión: diferencia absoluta\n",
    "print(f\"Diferencia absoluta entre valor real y aprox.: {abs(diferencia_x)}\")\n",
    "\n",
    "# Bucle: iteración hasta error < 0.1%\n",
    "while error >= 0.1:\n",
    "    termino += 1\n",
    "    sumatoria_aprox += exponente**termino / math.factorial(termino)\n",
    "    diferencia_x = resultado - sumatoria_aprox\n",
    "    error = abs(diferencia_x / resultado) * 100\n",
    "\n",
    "# Impresión: términos para error < 0.1%\n",
    "print(f\"Se obtiene menos del 0.1% error con {termino} términos.\")"
   ]
  },
  {
   "cell_type": "code",
   "execution_count": 7,
   "metadata": {},
   "outputs": [
    {
     "name": "stdout",
     "output_type": "stream",
     "text": [
      "Valor aprox. función en término (1): 0.8333333333333334\n",
      "Valor real función: 0.8414709848078965\n",
      "Diferencia absoluta entre valor real y aprox.: 0.008137651474563135\n",
      "Se obtiene menos del 0.1% error con 2 términos.\n"
     ]
    }
   ],
   "source": [
    "# Importamos módulo math (funciones matemáticas)\n",
    "import math\n",
    "\n",
    "# Variable: suma de la serie de Taylor\n",
    "suma_aprox: float = 0\n",
    "    \n",
    "# Solicitud: valor de la variable\n",
    "variable = float(input(\"Ingrese valor variable para evaluar seno: \"))\n",
    "\n",
    "# Solicitud: número del término\n",
    "termino = int(input(\"Ingrese el número del término: \"))\n",
    "\n",
    "# Función seno evaluada en la variable\n",
    "resultado = math.sin(float(variable))\n",
    "\n",
    "# Bucle: cálculo de la suma de la serie de Taylor\n",
    "for i in range(termino + 1):\n",
    "    suma_aprox += (-1) ** i * (variable ** (2 * i + 1)) / math.factorial(2 * i + 1)\n",
    "\n",
    "# Diferencia entre valor real y aproximación\n",
    "diferencia_x = resultado - suma_aprox\n",
    "\n",
    "# Error porcentual relativo\n",
    "error = abs(diferencia_x / resultado) * 100\n",
    "\n",
    "# Impresión: valor aproximado\n",
    "print(f\"Valor aprox. función en término ({termino}): {suma_aprox}\")\n",
    "\n",
    "# Impresión: valor real\n",
    "print(f\"Valor real función: {resultado}\")\n",
    "\n",
    "# Impresión: diferencia absoluta\n",
    "print(f\"Diferencia absoluta entre valor real y aprox.: {abs(diferencia_x)}\")\n",
    "\n",
    "# Bucle: iteración hasta error < 0.1%\n",
    "while error >= 0.1:\n",
    "    termino += 1\n",
    "    suma_aprox += (-1) ** termino * (variable ** (2 * termino + 1)) / math.factorial(2 * termino + 1)\n",
    "    diferencia_x = resultado - suma_aprox\n",
    "    error = abs(diferencia_x / resultado) * 100\n",
    "\n",
    "# Impresión: términos para error < 0.1%\n",
    "print(f\"Se obtiene menos del 0.1% error con {termino} términos.\")"
   ]
  },
  {
   "cell_type": "code",
   "execution_count": 8,
   "metadata": {},
   "outputs": [
    {
     "name": "stdout",
     "output_type": "stream",
     "text": [
      "Valor aprox. función (1): 0.6666666666666667\n",
      "Valor real función: 0.7853981633974483\n",
      "Diferencia absoluta entre valor real y aprox.: 0.11873149673078154\n",
      "Se obtiene menos del 0.1% error con 318 términos.\n"
     ]
    }
   ],
   "source": [
    "# Importa módulo math (funciones matemáticas)\n",
    "import math\n",
    "\n",
    "# Solicitud: valor de la variable\n",
    "variable = float(input(\"Ingrese valor variable en el rango [-1, 1]: \"))\n",
    "\n",
    "# Solicitud: número del término\n",
    "termino = int(input(\"Ingrese el número del término: \"))\n",
    "\n",
    "# Valida rango de la variable\n",
    "if -1 <= variable <= 1:\n",
    "    \n",
    "    # Variable: suma de la serie de Taylor\n",
    "    sumatoria_aprox: float = 0\n",
    "    \n",
    "    # Función atan evaluada en la variable\n",
    "    resultado = math.atan(float(variable))\n",
    "\n",
    "    # Bucle: cálculo de la suma de la serie de Taylor\n",
    "    for i in range(termino + 1):\n",
    "        sumatoria_aprox += ((-1)**i) * (variable**(2 * i + 1)) / (2 * i + 1)\n",
    "\n",
    "    # Diferencia entre valor real y aproximación\n",
    "    diferencia_x = resultado - sumatoria_aprox\n",
    "\n",
    "    # Error porcentual relativo\n",
    "    error = abs(diferencia_x / resultado) * 100\n",
    "\n",
    "    # Impresión: valor aproximado\n",
    "    print(f\"Valor aprox. función ({termino}): {sumatoria_aprox}\")\n",
    "\n",
    "    # Impresión: valor real\n",
    "    print(f\"Valor real función: {resultado}\")\n",
    "\n",
    "    # Impresión: diferencia absoluta\n",
    "    print(f\"Diferencia absoluta entre valor real y aprox.: {abs(diferencia_x)}\")\n",
    "\n",
    "    # Bucle: iteración hasta error < 0.1%\n",
    "    while error >= 0.1:\n",
    "        termino += 1\n",
    "        sumatoria_aprox += ((-1)**termino) * (variable**(2 * termino + 1)) / (2 * termino + 1)\n",
    "        diferencia_x = resultado - sumatoria_aprox\n",
    "        error = abs(diferencia_x / resultado) * 100\n",
    "\n",
    "    # Impresión: términos para error < 0.1%\n",
    "    print(f\"Se obtiene menos del 0.1% error con {termino} términos.\")\n",
    "    \n",
    "else:\n",
    "    # Imprime mensaje de error si no está en el rango\n",
    "    print(\"El valor de la variable no está en el rango [-1, 1]\")"
   ]
  }
 ],
 "metadata": {
  "kernelspec": {
   "display_name": "Python 3",
   "language": "python",
   "name": "python3"
  },
  "language_info": {
   "codemirror_mode": {
    "name": "ipython",
    "version": 3
   },
   "file_extension": ".py",
   "mimetype": "text/x-python",
   "name": "python",
   "nbconvert_exporter": "python",
   "pygments_lexer": "ipython3",
   "version": "3.12.2"
  }
 },
 "nbformat": 4,
 "nbformat_minor": 2
}
